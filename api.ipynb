{
 "cells": [
  {
   "cell_type": "code",
   "execution_count": 1,
   "id": "b5d19ed6",
   "metadata": {},
   "outputs": [],
   "source": [
    "import requests\n",
    "url = (\"https://www.flickr.com/services/rest/\")\n"
   ]
  },
  {
   "cell_type": "code",
   "execution_count": 2,
   "id": "c6f76b94",
   "metadata": {},
   "outputs": [
    {
     "data": {
      "text/plain": [
       "<Response [200]>"
      ]
     },
     "execution_count": 2,
     "metadata": {},
     "output_type": "execute_result"
    }
   ],
   "source": [
    "requests.get(url)"
   ]
  },
  {
   "cell_type": "code",
   "execution_count": 5,
   "id": "95003f82",
   "metadata": {},
   "outputs": [],
   "source": [
    "parametrs = {\n",
    "    \"method\":\"flickr.photos.getPopular\",\n",
    "    \"api_key\":\"0dd7ad9c54d237b476456d049f14a076\",\n",
    "    \"user_id\":\"195590220@N03\",\n",
    "    \"format\":\"json\",\n",
    "    \"nojsoncallback\":1\n",
    "}\n",
    "\n",
    "\n",
    "    "
   ]
  },
  {
   "cell_type": "code",
   "execution_count": 6,
   "id": "eac3d49b",
   "metadata": {},
   "outputs": [],
   "source": [
    "r = requests.get(url=url, params=parametrs)"
   ]
  },
  {
   "cell_type": "code",
   "execution_count": 11,
   "id": "ea8cce7a",
   "metadata": {},
   "outputs": [
    {
     "name": "stdout",
     "output_type": "stream",
     "text": [
      "200\n",
      "{'photos': {'page': 1, 'pages': 0, 'perpage': 100, 'total': 0, 'photo': []}, 'stat': 'ok'}\n"
     ]
    }
   ],
   "source": [
    "print(r.status_code)\n",
    "json_response = r.json()\n",
    "print(json_response)"
   ]
  },
  {
   "cell_type": "code",
   "execution_count": 9,
   "id": "412eebb3",
   "metadata": {},
   "outputs": [
    {
     "name": "stdout",
     "output_type": "stream",
     "text": [
      "API working\n"
     ]
    }
   ],
   "source": [
    "if (r.status_code ==200 and json_response[\"stat\"] == \"ok\"):\n",
    "    print(\"API working\")\n",
    "else:\n",
    "    print(\"Not working\")\n",
    "    print(\"error caught :-\",json_response[\"message\"])"
   ]
  },
  {
   "cell_type": "code",
   "execution_count": null,
   "id": "f53d1e7b",
   "metadata": {},
   "outputs": [],
   "source": []
  }
 ],
 "metadata": {
  "kernelspec": {
   "display_name": "Python 3 (ipykernel)",
   "language": "python",
   "name": "python3"
  },
  "language_info": {
   "codemirror_mode": {
    "name": "ipython",
    "version": 3
   },
   "file_extension": ".py",
   "mimetype": "text/x-python",
   "name": "python",
   "nbconvert_exporter": "python",
   "pygments_lexer": "ipython3",
   "version": "3.9.7"
  }
 },
 "nbformat": 4,
 "nbformat_minor": 5
}
